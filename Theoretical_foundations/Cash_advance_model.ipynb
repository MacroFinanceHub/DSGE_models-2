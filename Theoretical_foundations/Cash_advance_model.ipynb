{
 "cells": [
  {
   "cell_type": "markdown",
   "metadata": {},
   "source": [
    "# Cash in advance model\n",
    "This introductory notebook demonstrates the cash in advance DSGE model\n",
    "\n",
    "The materials and equations are from the following book:\n",
    "- Cole, H. L. (2020). Monetary and Fiscal Policy Through a DSGE Lens. Oxford University Press.\n",
    "- Amazon [link](https://www.amazon.com/Monetary-Fiscal-Policy-through-DSGE-ebook/dp/B084ZW3KQQ/ref=sr_1_1?dchild=1&keywords=dsge&qid=1591984849&sr=8-1) for book"
   ]
  },
  {
   "cell_type": "markdown",
   "metadata": {},
   "source": [
    "# Basic definitions\n",
    "\n",
    "#### Goods market\n",
    "- $i \\in I$\n",
    "    - i index all different possible goods\n",
    "    - Assume many buyers and sellers, competitive\n",
    "- $j, {j\\in I: j\\neq i}$\n",
    "    - Goods that the household does not produce\n",
    "    \n",
    "#### Asset market\n",
    "- One period discount bond\n",
    "\n",
    "Each household produces good at beginning of each period using labor\n",
    "$y_i=ZL \\tag{1}$\n",
    "Where:\n",
    "- Z = current productivity level\n",
    "- L = labor expended by households \n",
    "\n",
    "#### Concave utility function over a composite of all possible goods\n",
    "$C=\\Big(\\frac{1}{I}\\sum_{i\\in I} C(i)^\\rho \\Big)^{1/\\rho}\\tag{2}$\n",
    "\n",
    "Where:\n",
    "- I = # of diff goods\n",
    "- $\\rho\\in(0,1)$\n",
    "\n",
    "#### Constant relative risk aversion (CRRA)\n",
    "$$u(C)=\\frac{C^{1-\\alpha}}{1-\\alpha}$$\n",
    "\n",
    "Households have disutility of labor so total payoff for a period\n",
    "\n",
    "$$u(C)-v(L)\\tag{3}$$\n",
    "Where:\n",
    "- $v\\prime>0$ and $v\\prime\\prime>0$\n",
    "- The cost of additional effort is positive and increasing in the level of effort\n"
   ]
  },
  {
   "cell_type": "markdown",
   "metadata": {},
   "source": [
    "# 1. Household's problem\n",
    "\n",
    "Static version\n",
    "\n",
    "$$\n",
    "\\max_{C(i)_{i\\in I}, L(j), W} u(c)-v(L(j))+V(W)\\\\ \n",
    "s.j.t\\\\\n",
    "M\\geq \\sum_{i\\in I/j} P(i)C(i)\\\\\n",
    "W\\leq P(j)[ZL(j)-C(j)] + [M-\\sum P(i)C(i)]\n",
    "$$\n",
    "\n",
    "- $V(W)$ = The future value of wealth\n",
    "- $L(j)$= Goods produced\n",
    "- $\\{C(i)\\}_{i\\in I}$= Goods consumed\n",
    "- M = Initial money holdings\n",
    "- $I/j$= set I less element j\n",
    "\n",
    "Constraints:\n",
    "- Cash in advance condition: $\\Big(\\sum_{i\\in I} C(i)^\\rho \\Big)^{1/\\rho}$\n",
    "    - Household can only spend as it has in cash\n",
    "- Budget constraint: $W\\leq P(j)[ZL(j)-C(j)] + [M-\\sum P(i)C(i)]$\n",
    "    - Wealth is money left after consuming and selling goods\n",
    "    \n",
    "    \n",
    "$$\n",
    "L = \\max_{C(i)_{i\\in I, L(j), W}}\\min_{\\lambda\\mu} u(C)- v(L(j))+V(W)\\\\\n",
    "+\\lambda\\Big(M-\\sum_{i\\in I} P(i)C(i)\\Big)\\\\\n",
    "+\\mu\\Big(P(j)[ZL(j)-C(j)]+[M-\\sum_{i\\in I}P(i)C(i)]-w\\Big)\\tag{4}\n",
    "$$\n",
    "\n",
    "FOC\n",
    "\n",
    "#### Optimal condition for labor effort:\n",
    "\n",
    "$$v\\prime(L(j)) = \\mu P(j)Z \\tag{5}$$\n",
    "\n",
    "The optimal choice for wealth:\n",
    "\n",
    "$$V\\prime(W)=\\mu$$"
   ]
  },
  {
   "cell_type": "markdown",
   "metadata": {},
   "source": [
    "### 1.1.1 Consumption\n",
    "\n",
    "Now assume that households must use of cash to buy their own consumption good. Constraints are now:\n",
    "$$\n",
    "\\max_{C(i)_{i\\in I}, L(j), W} u(c)-v(L(j))+V(W)\\\\ \n",
    "s.j.t\\\\\n",
    "M\\geq \\sum_{i\\in I} P(i)C(i)\\\\\n",
    "W\\leq P(j)ZL(j) + [M-\\sum P(i)C(i)]\n",
    "$$\n",
    "\n",
    "Omitted algebra pg. 13\n",
    "\n",
    "F.O.C\n",
    "$$u\\prime(C)=(\\lambda+\\mu)P\\tag{6}$$\n",
    "$$u\\prime(C)=V\\prime(W) P \\tag{7}$$\n",
    "Marginal utility of Consumption= cost of consumption times marginal value of future wealth\n",
    "\n",
    "If the cash in advance constraint does bind then $\\lambda>0$\n",
    "\n",
    "$$C=\\frac{M}{P}$$\n",
    "\n",
    "$\\lambda$ chosen so that\n",
    "$$\\lambda = \\frac{u\\prime(C)}{P}-V\\prime(W)$$"
   ]
  },
  {
   "cell_type": "markdown",
   "metadata": {},
   "source": [
    "### 1.1.2 Labor\n",
    "\n",
    "Optimal choice for labor by using f.o.c for wealth\n",
    "\n",
    "$$v\\prime(L(j))=V\\prime(W) p(j)Z\\tag{9}$$\n",
    "\n",
    "Optimal labor choice= marginal disutility of effort euqal to the nominal production of labor times marginal value of nominal wealth"
   ]
  },
  {
   "cell_type": "markdown",
   "metadata": {},
   "source": [
    "### 1.1.3 Comparative statics consumption\n",
    "\n",
    "Optimal consumption and labor along with budget and cash in advance constraint determine our endogenous variables\n",
    "We must linearize our conditions\n",
    "\n",
    "The conditions are:\n",
    "\n",
    "$$\n",
    "u\\prime(C)=V\\prime(W)P+\\lambda P \\\\\n",
    "v\\prime(L)=V\\prime(W)PZ \\\\\n",
    "W= M+PZL-PC \\\\\n",
    "M\\geq PC\n",
    "$$"
   ]
  },
  {
   "cell_type": "markdown",
   "metadata": {},
   "source": [
    "# 2. The asset market\n",
    "$$\n",
    "\\max_{C(i)_{i\\in I}, L(j), M\\prime, B\\prime}\\min_{\\lambda\\mu} u(C)- v(L(j))+V(W)\\\\\n",
    "+\\lambda\\Big(M-PC\\Big)\\\\\n",
    "+\\mu\\Big(PZL+[M-PC]+B-M\\prime-qB\\prime\\Big)\\tag{13}\n",
    "$$\n",
    "\n",
    "FOC $M\\prime$\n",
    "$$-\\mu+V_1(M\\prime, B\\prime)=0$$"
   ]
  },
  {
   "cell_type": "markdown",
   "metadata": {},
   "source": [
    "# 3. Cash in advance dynamic model\n",
    "\n",
    "## 3.1 Closing the model\n",
    "\n",
    "### 3.1.1 Steady state 1\n",
    "\n",
    "### 3.1.2 Sovling for the steady state\n",
    "\n"
   ]
  },
  {
   "cell_type": "code",
   "execution_count": 14,
   "metadata": {},
   "outputs": [
    {
     "name": "stdout",
     "output_type": "stream",
     "text": [
      "[[1.         1.         0.5        2.         0.75175865]\n",
      " [1.         1.05       0.5        2.         0.74437004]\n",
      " [1.         1.1        0.5        2.         0.73722951]\n",
      " [1.         1.15       0.5        2.         0.73032311]\n",
      " [1.         1.2        0.5        2.         0.72363799]\n",
      " [1.         1.25       0.5        2.         0.71716225]\n",
      " [1.         1.3        0.5        2.         0.71088491]\n",
      " [1.         1.35       0.5        2.         0.70479576]\n",
      " [1.         1.4        0.5        2.         0.69888534]\n",
      " [1.         1.45       0.5        2.         0.69314484]\n",
      " [1.         1.5        0.5        2.         0.68756605]\n",
      " [1.         1.55       0.5        2.         0.68214132]\n",
      " [1.         1.6        0.5        2.         0.67686349]\n",
      " [1.         1.65       0.5        2.         0.67172588]\n",
      " [1.         1.7        0.5        2.         0.66672221]\n",
      " [1.         1.75       0.5        2.         0.66184662]\n",
      " [1.         1.8        0.5        2.         0.65709357]\n",
      " [1.         1.85       0.5        2.         0.65245789]\n",
      " [1.         1.9        0.5        2.         0.64793469]\n",
      " [1.         1.95       0.5        2.         0.64351937]\n",
      " [1.         2.         0.5        2.         0.6392076 ]]\n"
     ]
    }
   ],
   "source": [
    "import numpy as np\n",
    "def Labor (ta, Z, Be, gam, alp):\n",
    "    l = Be*(Z**(1-alp))/(1+ta)\n",
    "    l = l**(1/(alp+gam))\n",
    "    return l\n",
    "\n",
    "Z = 1\n",
    "Be = .98\n",
    "gam = .5\n",
    "alp = 2\n",
    "TA = np.arange(1,2.05, 0.05)\n",
    "\n",
    "Results = np.zeros((len(TA), 5))\n",
    "counter = 0\n",
    "\n",
    "for i in range(len(TA)):\n",
    "    Results[i,] = [Z,TA[i], gam , alp, Labor(TA[i],Z, Be, gam, alp)]\n",
    "print(Results)"
   ]
  },
  {
   "cell_type": "code",
   "execution_count": 16,
   "metadata": {},
   "outputs": [
    {
     "data": {
      "image/png": "[encoded data removed]",
      "text/plain": [
       "<Figure size 432x288 with 1 Axes>"
      ]
     },
     "metadata": {
      "needs_background": "light"
     },
     "output_type": "display_data"
    }
   ],
   "source": [
    "import matplotlib.pyplot as plt\n",
    "plt.plot(Results[:,1], Results[:,4])\n",
    "plt.xlabel('growth rate of money')\n",
    "plt.ylabel('labor')\n",
    "plt.title('Steady state labor effort vs inflation')\n",
    "plt.show()"
   ]
  },
  {
   "cell_type": "code",
   "execution_count": null,
   "metadata": {},
   "outputs": [],
   "source": []
  }
 ],
 "metadata": {
  "kernelspec": {
   "display_name": "Python 3",
   "language": "python",
   "name": "python3"
  },
  "language_info": {
   "codemirror_mode": {
    "name": "ipython",
    "version": 3
   },
   "file_extension": ".py",
   "mimetype": "text/x-python",
   "name": "python",
   "nbconvert_exporter": "python",
   "pygments_lexer": "ipython3",
   "version": "3.7.6"
  }
 },
 "nbformat": 4,
 "nbformat_minor": 4
}
