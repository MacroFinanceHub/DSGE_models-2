{
 "cells": [
  {
   "cell_type": "code",
   "execution_count": 1,
   "metadata": {},
   "outputs": [],
   "source": [
    "import numpy as np\n",
    "import matplotlib.pyplot as plt"
   ]
  },
  {
   "cell_type": "markdown",
   "metadata": {},
   "source": [
    "# 1. Utility functions\n",
    "\n",
    "## 1.A Compute coefficients of absolute and relative risk aversion for the exponential utility function?\n",
    "\n",
    "\n",
    "- CRRA utility is preferred because under the assumption of increasing and concave utility functions the amount of money an agent is willing to give up in order to get rid of an additive risk should be decreasing in wealth. \n",
    "\n",
    "\n",
    "- For such type of utility functions the marginal utility of consumption is lower the higher the consumption level. \n",
    "    - This causes the same additive shock to have a higher impact in utility when consumption is low than when consumption is high. Utility áuctuates less then for high level of consumption. \n",
    "    - Therefore agents should be willing to pay less for insurance against additive risk when they are richer.\n",
    "\n",
    "\n",
    "\n",
    "### 1.A.1 CARA\n",
    "Exponential utility function (CARA):\n",
    "$$U(c)=-\\frac{1}{a}e^{-ac}\\\\\n",
    "U(c)\\prime = e^{-ac}\\\\\n",
    "U(c)\\prime\\prime= -ae^{-ac}\\\\\n",
    "ARA = -\\frac{U\\prime\\prime}{U\\prime}=a\\\\\n",
    "RRA = -\\frac{U\\prime\\prime}{U\\prime}c=ac$$\n"
   ]
  },
  {
   "cell_type": "markdown",
   "metadata": {},
   "source": [
    "#### 1.A.1.1 Python example: CARA"
   ]
  },
  {
   "cell_type": "code",
   "execution_count": 2,
   "metadata": {},
   "outputs": [
    {
     "data": {
      "image/png": "[encoded data removed]",
      "text/plain": [
       "<Figure size 432x288 with 1 Axes>"
      ]
     },
     "metadata": {
      "needs_background": "light"
     },
     "output_type": "display_data"
    }
   ],
   "source": [
    "def u(a,c):\n",
    "    solu = (-1/a)*np.exp(-a*c)\n",
    "    return solu\n",
    "def u_1d(a,c):\n",
    "    solu = np.exp(-a*c)\n",
    "    return solu\n",
    "def u_2d(a,c):\n",
    "    solu = (-a)*np.exp(-a*c)\n",
    "    return solu\n",
    "\n",
    "x = np.linspace(0,10,101)\n",
    "y1 = np.zeros(len(x))\n",
    "y2 = np.zeros(len(x))\n",
    "y3 = np.zeros(len(x))\n",
    "\n",
    "for idx,i in enumerate(x):\n",
    "        y1[idx] = u(1, i)\n",
    "        y2[idx] = u_1d(1, i)\n",
    "        y3[idx] = u_2d(1, i)\n",
    "plt.plot(x,y1, label='U')\n",
    "plt.plot(x, y2, label=r'$U\\prime$')\n",
    "plt.plot(x, y3, label=r'$U\\prime\\prime$')\n",
    "plt.ylabel('U(c)')\n",
    "plt.xlabel('c')\n",
    "plt.legend();"
   ]
  },
  {
   "cell_type": "markdown",
   "metadata": {},
   "source": [
    "### 1.A.2 Quadratic"
   ]
  },
  {
   "cell_type": "markdown",
   "metadata": {},
   "source": [
    "Quadratic utility function:\n",
    "$$U(c)=c-\\frac{b}{2}c^2\\\\\n",
    "U(c)\\prime =1- \\frac{b}{2}c\\\\\n",
    "U(c)\\prime\\prime= -b\\\\\n",
    "ARA = -\\frac{U\\prime\\prime}{U\\prime}=\\frac{b}{1-bc}\\\\\n",
    "RRA = -\\frac{U\\prime\\prime}{U\\prime}c=\\frac{bc}{1-bc}$$\n"
   ]
  },
  {
   "cell_type": "markdown",
   "metadata": {},
   "source": [
    "#### 1.A.2.1 Python example: Quadratic"
   ]
  },
  {
   "cell_type": "code",
   "execution_count": 3,
   "metadata": {},
   "outputs": [
    {
     "data": {
      "image/png": "[encoded data removed]",
      "text/plain": [
       "<Figure size 432x288 with 1 Axes>"
      ]
     },
     "metadata": {
      "needs_background": "light"
     },
     "output_type": "display_data"
    }
   ],
   "source": [
    "def u(b,c):\n",
    "    solu = c-(b/2)*c**2\n",
    "    return solu\n",
    "def u_1d(b,c):\n",
    "    solu = 1-(b/2)*c\n",
    "    return solu\n",
    "def u_2d(b,c):\n",
    "    solu = -b\n",
    "    return solu\n",
    "\n",
    "x = np.linspace(0,10,101)\n",
    "y1 = np.zeros(len(x))\n",
    "y2 = np.zeros(len(x))\n",
    "y3 = np.zeros(len(x))\n",
    "\n",
    "for idx,i in enumerate(x):\n",
    "        y1[idx] = u(1, i)\n",
    "        y2[idx] = u_1d(1, i)\n",
    "        y3[idx] = u_2d(1, i)\n",
    "plt.plot(x,y1, label='U(c)')\n",
    "plt.plot(x, y2, label=r'$U\\prime$')\n",
    "plt.plot(x, y3, label=r'$U\\prime\\prime$')\n",
    "plt.ylabel('U(c)')\n",
    "plt.xlabel('c')\n",
    "plt.legend();"
   ]
  },
  {
   "cell_type": "markdown",
   "metadata": {},
   "source": [
    "### 1.A.3 CRRA"
   ]
  },
  {
   "cell_type": "markdown",
   "metadata": {},
   "source": [
    "\n",
    "CRRA:\n",
    "$$U(c)=\\frac{\\sigma}{\\sigma-1}c^\\frac{\\sigma-1}{\\sigma}\\\\\n",
    "U(c)\\prime =c^{\\frac{-1}{\\sigma}}\\\\\n",
    "U(c)\\prime\\prime= \\frac{-1}{\\sigma} c^{\\frac{-1}{\\sigma}}\\\\\n",
    "ARA = -\\frac{U\\prime\\prime}{U\\prime}=\\frac{1}{\\sigma}c^{-1}\\\\\n",
    "RRA = -\\frac{U\\prime\\prime}{U\\prime}c=\\frac{1}{\\sigma}$$"
   ]
  },
  {
   "cell_type": "markdown",
   "metadata": {},
   "source": [
    "#### 1.A.3.1 Python example: CRRA"
   ]
  },
  {
   "cell_type": "code",
   "execution_count": 4,
   "metadata": {},
   "outputs": [
    {
     "name": "stderr",
     "output_type": "stream",
     "text": [
      "/Users/corybaird/opt/anaconda3/lib/python3.7/site-packages/ipykernel_launcher.py:2: RuntimeWarning: divide by zero encountered in double_scalars\n",
      "  \n",
      "/Users/corybaird/opt/anaconda3/lib/python3.7/site-packages/ipykernel_launcher.py:5: RuntimeWarning: divide by zero encountered in double_scalars\n",
      "  \"\"\"\n",
      "/Users/corybaird/opt/anaconda3/lib/python3.7/site-packages/ipykernel_launcher.py:8: RuntimeWarning: divide by zero encountered in double_scalars\n",
      "  \n"
     ]
    },
    {
     "data": {
      "image/png": "[encoded data removed]",
      "text/plain": [
       "<Figure size 432x288 with 1 Axes>"
      ]
     },
     "metadata": {
      "needs_background": "light"
     },
     "output_type": "display_data"
    }
   ],
   "source": [
    "def u(sig,c):\n",
    "    solu = (sig/(sig-1))*c**((sig-1)/sig)\n",
    "    return solu\n",
    "def u_1d(sig,c):\n",
    "    solu = c**(-1/sig)\n",
    "    return solu\n",
    "def u_2d(sig,c):\n",
    "    solu = (-1/sig)*c**(-1/sig)\n",
    "    return solu\n",
    "\n",
    "x = np.linspace(0,10,101)\n",
    "y1 = np.zeros(len(x))\n",
    "y2 = np.zeros(len(x))\n",
    "y3 = np.zeros(len(x))\n",
    "\n",
    "for idx,i in enumerate(x):\n",
    "        y1[idx] = u(.95, i)\n",
    "        y2[idx] = u_1d(.95, i)\n",
    "        y3[idx] = u_2d(.95, i)\n",
    "plt.plot(x,y1, label='U(c)')\n",
    "plt.plot(x, y2, label=r'$U\\prime$')\n",
    "plt.plot(x, y3, label=r'$U\\prime\\prime$')\n",
    "plt.ylabel('U(c)')\n",
    "plt.xlabel('c')\n",
    "plt.legend();"
   ]
  }
 ],
 "metadata": {
  "kernelspec": {
   "display_name": "Python 3",
   "language": "python",
   "name": "python3"
  },
  "language_info": {
   "codemirror_mode": {
    "name": "ipython",
    "version": 3
   },
   "file_extension": ".py",
   "mimetype": "text/x-python",
   "name": "python",
   "nbconvert_exporter": "python",
   "pygments_lexer": "ipython3",
   "version": "3.7.6"
  }
 },
 "nbformat": 4,
 "nbformat_minor": 4
}
