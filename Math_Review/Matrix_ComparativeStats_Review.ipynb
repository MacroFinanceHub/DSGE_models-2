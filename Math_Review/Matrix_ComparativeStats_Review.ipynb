{
 "cells": [
  {
   "cell_type": "markdown",
   "metadata": {},
   "source": [
    "# Matrix and compartive statistics review"
   ]
  },
  {
   "cell_type": "markdown",
   "metadata": {},
   "source": [
    "The following notebook is a review of matrices and comparative statistics with examples in python.\n",
    "\n",
    "The equations and examples are from the following book I highly recommend using to brush up on mathamtics commonly used in economics coursework:\n",
    "- Dowling, E. T. (2012). Introduction to mathematical economics. McGraw-Hill.\n",
    "    - [Amazon link](https://www.amazon.com/Schaums-Introduction-Mathematical-Economics-Outlines/dp/0071762515/ref=sr_1_7?dchild=1&keywords=mathematics+economics&qid=1593200726&sr=8-7)"
   ]
  },
  {
   "cell_type": "markdown",
   "metadata": {},
   "source": [
    "# Table of contents\n",
    "- [1. Matrix basics](#1.-Matrix-basics)\n",
    "    \n",
    "- [2. Special determinants](#2.-Special-determinants)\n",
    "\n",
    "- [3. Comparative statistics](#3.-Comparative-statistics)\n",
    "\n"
   ]
  },
  {
   "cell_type": "markdown",
   "metadata": {},
   "source": [
    "# 1. Matrix basics"
   ]
  },
  {
   "cell_type": "code",
   "execution_count": 1,
   "metadata": {},
   "outputs": [],
   "source": [
    "import numpy as np\n",
    "np.random.seed(1)"
   ]
  },
  {
   "cell_type": "markdown",
   "metadata": {},
   "source": [
    "## 1.1 Scalar multiplication"
   ]
  },
  {
   "cell_type": "code",
   "execution_count": 2,
   "metadata": {},
   "outputs": [
    {
     "data": {
      "text/plain": [
       "array([[ 5, 11],\n",
       "       [12,  8]])"
      ]
     },
     "execution_count": 2,
     "metadata": {},
     "output_type": "execute_result"
    }
   ],
   "source": [
    "A = np.random.randint(20, size=(2,2))\n",
    "A"
   ]
  },
  {
   "cell_type": "code",
   "execution_count": 3,
   "metadata": {},
   "outputs": [
    {
     "data": {
      "text/plain": [
       "array([[15, 33],\n",
       "       [36, 24]])"
      ]
     },
     "execution_count": 3,
     "metadata": {},
     "output_type": "execute_result"
    }
   ],
   "source": [
    "A*3"
   ]
  },
  {
   "cell_type": "markdown",
   "metadata": {},
   "source": [
    "## 1.2 Matrix addition"
   ]
  },
  {
   "cell_type": "code",
   "execution_count": 4,
   "metadata": {},
   "outputs": [
    {
     "data": {
      "text/plain": [
       "array([[ 9, 27],\n",
       "       [ 6, 27]])"
      ]
     },
     "execution_count": 4,
     "metadata": {},
     "output_type": "execute_result"
    }
   ],
   "source": [
    "A = np.random.randint(20, size=(2,2))\n",
    "B = np.random.randint(20, size=(2,2))\n",
    "A+B"
   ]
  },
  {
   "cell_type": "markdown",
   "metadata": {},
   "source": [
    "## 1.3 Matrix mulitiplication"
   ]
  },
  {
   "cell_type": "code",
   "execution_count": 5,
   "metadata": {},
   "outputs": [],
   "source": [
    "A = np.random.randint(20, size=(2,2))\n",
    "B = np.random.randint(20, size=(2,2))"
   ]
  },
  {
   "cell_type": "code",
   "execution_count": 6,
   "metadata": {},
   "outputs": [
    {
     "data": {
      "text/plain": [
       "array([[178, 256],\n",
       "       [228, 288]])"
      ]
     },
     "execution_count": 6,
     "metadata": {},
     "output_type": "execute_result"
    }
   ],
   "source": [
    "A@B"
   ]
  },
  {
   "cell_type": "markdown",
   "metadata": {},
   "source": [
    "### 1.4 Identity matrix and empty"
   ]
  },
  {
   "cell_type": "code",
   "execution_count": 7,
   "metadata": {},
   "outputs": [
    {
     "data": {
      "text/plain": [
       "array([[1., 0., 0.],\n",
       "       [0., 1., 0.],\n",
       "       [0., 0., 1.]])"
      ]
     },
     "execution_count": 7,
     "metadata": {},
     "output_type": "execute_result"
    }
   ],
   "source": [
    "np.eye(3)"
   ]
  },
  {
   "cell_type": "code",
   "execution_count": 8,
   "metadata": {},
   "outputs": [
    {
     "data": {
      "text/plain": [
       "array([[0., 0.],\n",
       "       [0., 0.]])"
      ]
     },
     "execution_count": 8,
     "metadata": {},
     "output_type": "execute_result"
    }
   ],
   "source": [
    "np.zeros(shape=(2,2))"
   ]
  },
  {
   "cell_type": "markdown",
   "metadata": {},
   "source": [
    "## 1.5 Matrix inversion"
   ]
  },
  {
   "cell_type": "code",
   "execution_count": 9,
   "metadata": {},
   "outputs": [
    {
     "data": {
      "text/plain": [
       "array([[14, 18],\n",
       "       [ 4,  9]])"
      ]
     },
     "execution_count": 9,
     "metadata": {},
     "output_type": "execute_result"
    }
   ],
   "source": [
    "A = np.random.randint(20, size=(2,2))\n",
    "A"
   ]
  },
  {
   "cell_type": "code",
   "execution_count": 11,
   "metadata": {},
   "outputs": [
    {
     "data": {
      "text/plain": [
       "54.0"
      ]
     },
     "execution_count": 11,
     "metadata": {},
     "output_type": "execute_result"
    }
   ],
   "source": [
    "#Determinate\n",
    "round(np.linalg.det(A))"
   ]
  },
  {
   "cell_type": "code",
   "execution_count": 15,
   "metadata": {},
   "outputs": [
    {
     "data": {
      "text/plain": [
       "array([[ 0.167, -0.333],\n",
       "       [-0.074,  0.259]])"
      ]
     },
     "execution_count": 15,
     "metadata": {},
     "output_type": "execute_result"
    }
   ],
   "source": [
    "#Invert matrix\n",
    "np.linalg.inv(A).round(3)"
   ]
  },
  {
   "cell_type": "markdown",
   "metadata": {},
   "source": [
    "# 2. Special determinants"
   ]
  },
  {
   "cell_type": "markdown",
   "metadata": {},
   "source": [
    "## 2.1 Jacobian"
   ]
  },
  {
   "cell_type": "code",
   "execution_count": 32,
   "metadata": {},
   "outputs": [],
   "source": [
    "import sympy as sy\n",
    "x1, x2 = sy.symbols('x1 x2', integer=True)\n",
    "y1 = 5*x1+3*x2\n",
    "y2 = 25*x1**2+30*x1*x2+9*x2**2"
   ]
  },
  {
   "cell_type": "code",
   "execution_count": 33,
   "metadata": {},
   "outputs": [
    {
     "data": {
      "text/latex": [
       "$\\displaystyle 5 x_{1} + 3 x_{2}$"
      ],
      "text/plain": [
       "5*x1 + 3*x2"
      ]
     },
     "execution_count": 33,
     "metadata": {},
     "output_type": "execute_result"
    }
   ],
   "source": [
    "y1"
   ]
  },
  {
   "cell_type": "code",
   "execution_count": 34,
   "metadata": {},
   "outputs": [
    {
     "data": {
      "text/latex": [
       "$\\displaystyle 25 x_{1}^{2} + 30 x_{1} x_{2} + 9 x_{2}^{2}$"
      ],
      "text/plain": [
       "25*x1**2 + 30*x1*x2 + 9*x2**2"
      ]
     },
     "execution_count": 34,
     "metadata": {},
     "output_type": "execute_result"
    }
   ],
   "source": [
    "y2"
   ]
  },
  {
   "cell_type": "code",
   "execution_count": 35,
   "metadata": {},
   "outputs": [
    {
     "data": {
      "text/latex": [
       "$\\displaystyle \\left[\\begin{matrix}5 & 3\\\\50 x_{1} + 30 x_{2} & 30 x_{1} + 18 x_{2}\\end{matrix}\\right]$"
      ],
      "text/plain": [
       "Matrix([\n",
       "[            5,             3],\n",
       "[50*x1 + 30*x2, 30*x1 + 18*x2]])"
      ]
     },
     "execution_count": 35,
     "metadata": {},
     "output_type": "execute_result"
    }
   ],
   "source": [
    "independent_variables = [x1, x2]\n",
    "functions = [y1, y2]\n",
    "Jacobian = sy.Matrix(np.zeros(shape=(len(functions), len(independent_variables))))\n",
    "count = 0\n",
    "for funcs in functions:\n",
    "    for iv in independent_variables:\n",
    "        Jacobian[count] = sy.diff(funcs, iv)\n",
    "        count+=1\n",
    "Jacobian"
   ]
  },
  {
   "cell_type": "code",
   "execution_count": 37,
   "metadata": {},
   "outputs": [
    {
     "name": "stdout",
     "output_type": "stream",
     "text": [
      "Functional dependence\n"
     ]
    }
   ],
   "source": [
    "if Jacobian.det()==0:\n",
    "    print(\"Functional dependence\")"
   ]
  },
  {
   "cell_type": "markdown",
   "metadata": {},
   "source": [
    "## 2.2 Hessian"
   ]
  },
  {
   "cell_type": "markdown",
   "metadata": {},
   "source": [
    "### 2.2.1 Sympy example: Definition"
   ]
  },
  {
   "cell_type": "code",
   "execution_count": 38,
   "metadata": {},
   "outputs": [
    {
     "data": {
      "text/latex": [
       "$\\displaystyle \\left[\\begin{matrix}\\frac{\\partial^{2}}{\\partial x^{2}} f{\\left(x,y \\right)} & \\frac{\\partial^{2}}{\\partial y\\partial x} f{\\left(x,y \\right)}\\\\\\frac{\\partial^{2}}{\\partial y\\partial x} f{\\left(x,y \\right)} & \\frac{\\partial^{2}}{\\partial y^{2}} f{\\left(x,y \\right)}\\end{matrix}\\right]$"
      ],
      "text/plain": [
       "Matrix([\n",
       "[Derivative(f(x, y), (x, 2)),   Derivative(f(x, y), x, y)],\n",
       "[  Derivative(f(x, y), x, y), Derivative(f(x, y), (y, 2))]])"
      ]
     },
     "execution_count": 38,
     "metadata": {},
     "output_type": "execute_result"
    }
   ],
   "source": [
    "from sympy import Function, hessian\n",
    "from sympy.abc import x, y\n",
    "f = Function('f')(x, y)\n",
    "hessian(f, (x, y))"
   ]
  },
  {
   "cell_type": "markdown",
   "metadata": {},
   "source": [
    "### 2.2.1 Sympy example: From 2.1"
   ]
  },
  {
   "cell_type": "code",
   "execution_count": 39,
   "metadata": {},
   "outputs": [
    {
     "data": {
      "text/latex": [
       "$\\displaystyle \\left[\\begin{matrix}0 & 0\\\\50 & 18\\end{matrix}\\right]$"
      ],
      "text/plain": [
       "Matrix([\n",
       "[ 0,  0],\n",
       "[50, 18]])"
      ]
     },
     "execution_count": 39,
     "metadata": {},
     "output_type": "execute_result"
    }
   ],
   "source": [
    "count = 0\n",
    "Hessian = Jacobian.copy()\n",
    "for _ in range(0,2):\n",
    "    for iv in independent_variables: #Reverses list order for hessian\n",
    "        Hessian[count] = sy.diff(Hessian[count],iv)\n",
    "        count+=1\n",
    "Hessian"
   ]
  },
  {
   "cell_type": "code",
   "execution_count": 40,
   "metadata": {},
   "outputs": [],
   "source": [
    "H1 = Hessian[0]\n",
    "H2 = Hessian.det()\n",
    "if H1>0 and H2>0:\n",
    "    print('Positive definite')\n",
    "    print('Minimum point')\n",
    "if H1<0 and H2>0:\n",
    "    print('Negative definite')\n",
    "    print('Max point')"
   ]
  },
  {
   "cell_type": "markdown",
   "metadata": {},
   "source": [
    "## 2.3 Discriminant\n",
    "- Tests for positive or negative definiteness of quadratic equations"
   ]
  },
  {
   "cell_type": "code",
   "execution_count": 41,
   "metadata": {},
   "outputs": [
    {
     "data": {
      "text/latex": [
       "$\\displaystyle 2 x^{2} + 5 x y + 8 y^{2}$"
      ],
      "text/plain": [
       "2*x**2 + 5*x*y + 8*y**2"
      ]
     },
     "execution_count": 41,
     "metadata": {},
     "output_type": "execute_result"
    }
   ],
   "source": [
    "x, y = sy.symbols('x y', integer=True)\n",
    "z = 2*x**2 + 5*x*y+8*y**2\n",
    "z"
   ]
  },
  {
   "cell_type": "code",
   "execution_count": 42,
   "metadata": {},
   "outputs": [
    {
     "data": {
      "text/latex": [
       "$\\displaystyle \\left[\\begin{matrix}2 & 2.5\\\\2.5 & 8\\end{matrix}\\right]$"
      ],
      "text/plain": [
       "Matrix([\n",
       "[  2, 2.5],\n",
       "[2.5,   8]])"
      ]
     },
     "execution_count": 42,
     "metadata": {},
     "output_type": "execute_result"
    }
   ],
   "source": [
    "Discrim = sy.Matrix([[2,(5/2)], [(5/2),8]])\n",
    "Discrim "
   ]
  },
  {
   "cell_type": "code",
   "execution_count": 43,
   "metadata": {},
   "outputs": [
    {
     "name": "stdout",
     "output_type": "stream",
     "text": [
      "Positive definite\n"
     ]
    }
   ],
   "source": [
    "d1 = Discrim[0]\n",
    "d2 = Discrim.det() #deter\n",
    "if d1 and d2>0:\n",
    "    print(\"Positive definite\")\n",
    "elif d1<0 and d2>0:\n",
    "    print('Negative definite')"
   ]
  },
  {
   "cell_type": "markdown",
   "metadata": {},
   "source": [
    "## 2.4 Higher order hessian"
   ]
  },
  {
   "cell_type": "code",
   "execution_count": 44,
   "metadata": {},
   "outputs": [
    {
     "data": {
      "text/latex": [
       "$\\displaystyle - 5 x_{1}^{2} + x_{1} x_{3} + 10 x_{1} - 2 x_{2}^{2} + 2 x_{2} x_{3} + 4 x_{2} - 4 x_{3}^{2}$"
      ],
      "text/plain": [
       "-5*x1**2 + x1*x3 + 10*x1 - 2*x2**2 + 2*x2*x3 + 4*x2 - 4*x3**2"
      ]
     },
     "execution_count": 44,
     "metadata": {},
     "output_type": "execute_result"
    }
   ],
   "source": [
    "x1, x2, x3 = sy.symbols('x1 x2 x3', integer=True)\n",
    "z = -5*x1**2+10*x1+x1*x3-2*x2**2+4*x2+2*x2*x3-4*x3**2\n",
    "z"
   ]
  },
  {
   "cell_type": "code",
   "execution_count": 45,
   "metadata": {},
   "outputs": [
    {
     "name": "stdout",
     "output_type": "stream",
     "text": [
      "FOC 1: -10*x1 + x3 + 10\n",
      "FOC 2: -4*x2 + 2*x3 + 4\n",
      "FOC 3: x1 + 2*x2 - 8*x3\n"
     ]
    }
   ],
   "source": [
    "focs = []\n",
    "for idx,iv in enumerate([x1,x2,x3]):\n",
    "    foc = sy.diff(z,iv)\n",
    "    focs.append(foc)\n",
    "for idx, foc in enumerate(focs):\n",
    "    print(\"FOC %s:\" %(idx+1), foc)"
   ]
  },
  {
   "cell_type": "code",
   "execution_count": 46,
   "metadata": {},
   "outputs": [],
   "source": [
    "A,b = sy.linear_eq_to_matrix(focs, [x1, x2, x3])"
   ]
  },
  {
   "cell_type": "code",
   "execution_count": 47,
   "metadata": {},
   "outputs": [
    {
     "data": {
      "text/latex": [
       "$\\displaystyle \\left[\\begin{matrix}-10 & 0 & 1\\\\0 & -4 & 2\\\\1 & 2 & -8\\end{matrix}\\right]$"
      ],
      "text/plain": [
       "Matrix([\n",
       "[-10,  0,  1],\n",
       "[  0, -4,  2],\n",
       "[  1,  2, -8]])"
      ]
     },
     "execution_count": 47,
     "metadata": {},
     "output_type": "execute_result"
    }
   ],
   "source": [
    "Hessian = A\n",
    "Hessian"
   ]
  },
  {
   "cell_type": "code",
   "execution_count": 48,
   "metadata": {},
   "outputs": [
    {
     "name": "stdout",
     "output_type": "stream",
     "text": [
      "Negative definite\n",
      "Maximum point\n"
     ]
    }
   ],
   "source": [
    "H1 = Hessian[0]\n",
    "H2 = Hessian[0:2,0:2].det()\n",
    "H3 = Hessian.det()\n",
    "if H1>0 and H2>0 and H3>0:\n",
    "    print('Positive definite')\n",
    "    print('Minimum point')\n",
    "elif H1<0 and H2>0 and H3<0:\n",
    "    print('Negative definite')\n",
    "    print('Maximum point')"
   ]
  },
  {
   "cell_type": "markdown",
   "metadata": {},
   "source": [
    "## 2.5 Bordered Hessian"
   ]
  },
  {
   "cell_type": "code",
   "execution_count": 49,
   "metadata": {},
   "outputs": [
    {
     "data": {
      "text/latex": [
       "$\\displaystyle \\left[\\begin{matrix}0 & \\frac{\\partial}{\\partial x} g{\\left(x,y \\right)} & \\frac{\\partial}{\\partial y} g{\\left(x,y \\right)}\\\\\\frac{\\partial}{\\partial x} g{\\left(x,y \\right)} & \\frac{\\partial^{2}}{\\partial x^{2}} f{\\left(x,y \\right)} & \\frac{\\partial^{2}}{\\partial y\\partial x} f{\\left(x,y \\right)}\\\\\\frac{\\partial}{\\partial y} g{\\left(x,y \\right)} & \\frac{\\partial^{2}}{\\partial y\\partial x} f{\\left(x,y \\right)} & \\frac{\\partial^{2}}{\\partial y^{2}} f{\\left(x,y \\right)}\\end{matrix}\\right]$"
      ],
      "text/plain": [
       "Matrix([\n",
       "[                     0,      Derivative(g(x, y), x),      Derivative(g(x, y), y)],\n",
       "[Derivative(g(x, y), x), Derivative(f(x, y), (x, 2)),   Derivative(f(x, y), x, y)],\n",
       "[Derivative(g(x, y), y),   Derivative(f(x, y), x, y), Derivative(f(x, y), (y, 2))]])"
      ]
     },
     "execution_count": 49,
     "metadata": {},
     "output_type": "execute_result"
    }
   ],
   "source": [
    "from sympy import Function, hessian, pprint\n",
    "from sympy.abc import x, y\n",
    "f = Function('f')(x, y)\n",
    "constraint = Function('g')(x, y)\n",
    "hessian(f, (x, y), [constraint])"
   ]
  },
  {
   "cell_type": "markdown",
   "metadata": {},
   "source": [
    "## 2.6 Eigenvalues & Eigenvectors"
   ]
  },
  {
   "cell_type": "code",
   "execution_count": 50,
   "metadata": {},
   "outputs": [],
   "source": [
    "def eigen(matrix):\n",
    "    trace = np.trace(A)\n",
    "    det = round(np.linalg.det(A),0)\n",
    "    eig_values = np.round((np.sort((trace+np.array([+1,-1])*np.sqrt(trace**2-(4*det)))/2)),1)\n",
    "    solu1, solu2 = [eig_values[:][0], eig_values[:][1]]\n",
    "    print(\"Original matrix: \\n\",matrix)\n",
    "    print(\"Eigen-values:\\n {}\".format(eig_values))\n",
    "    #Classification of matrix\n",
    "    if solu1>0 and solu2>0:\n",
    "        print('Pos definite')\n",
    "    if solu1<0 and solu2<0:\n",
    "        print('Neg definite')\n",
    "    if (solu1==0 or solu2==0) and (solu1>0 and solu2>0):\n",
    "        print('Pos semi-def')\n",
    "    if (solu1==0 or solu2==0) and (solu1<0 and solu2<0):\n",
    "        print('Pos semi-def')\n",
    "    if (solu1<0 and solu2>0) or (solu1>0 and solu2<0):\n",
    "        print('Indefinite')"
   ]
  },
  {
   "cell_type": "code",
   "execution_count": 51,
   "metadata": {},
   "outputs": [
    {
     "name": "stdout",
     "output_type": "stream",
     "text": [
      "Original matrix: \n",
      " [[17  0]\n",
      " [13  9]]\n",
      "Eigen-values:\n",
      " [ 9. 17.]\n",
      "Pos definite\n"
     ]
    }
   ],
   "source": [
    "A = np.random.randint(20, size=(2,2))\n",
    "eigen(A)"
   ]
  },
  {
   "cell_type": "markdown",
   "metadata": {},
   "source": [
    "# 3. Comparative statistics"
   ]
  },
  {
   "cell_type": "markdown",
   "metadata": {},
   "source": [
    "## 3.1 One endogenous variable"
   ]
  },
  {
   "cell_type": "markdown",
   "metadata": {},
   "source": [
    "$$\n",
    "Q_d = m-nP+kY\\\\\n",
    "Q_s = a+bP\n",
    "$$"
   ]
  },
  {
   "cell_type": "markdown",
   "metadata": {},
   "source": [
    "### 3.1.1 Explicit function\n",
    "$$P* =\\frac{m-a+kY}{b+n}$$"
   ]
  },
  {
   "cell_type": "markdown",
   "metadata": {},
   "source": [
    "### 3.1.2 Implicit function\n",
    "\n",
    "$$\\frac{dP^*}{dY}= - \\frac{F_Y}{F_P}$$"
   ]
  },
  {
   "cell_type": "code",
   "execution_count": 52,
   "metadata": {},
   "outputs": [
    {
     "data": {
      "text/latex": [
       "$\\displaystyle - a - b p + k y + m - n p$"
      ],
      "text/plain": [
       "-a - b*p + k*y + m - n*p"
      ]
     },
     "execution_count": 52,
     "metadata": {},
     "output_type": "execute_result"
    }
   ],
   "source": [
    "from sympy.abc import x,n,p,k,y,a,b,m\n",
    "f = m-n*p+k*y-a-b*p\n",
    "f"
   ]
  },
  {
   "cell_type": "code",
   "execution_count": 53,
   "metadata": {},
   "outputs": [
    {
     "data": {
      "text/latex": [
       "$\\displaystyle - \\frac{k}{- b - n}$"
      ],
      "text/plain": [
       "-k/(-b - n)"
      ]
     },
     "execution_count": 53,
     "metadata": {},
     "output_type": "execute_result"
    }
   ],
   "source": [
    "-sy.diff(f,y)/sy.diff(f,p)"
   ]
  },
  {
   "cell_type": "markdown",
   "metadata": {},
   "source": [
    "## 3.2 N-endogenous variables\n",
    "- `Comparative statistics:` requires a unique equilibrium condition for each endogenous variable\n",
    "- Measuring the effect of an exogenous variable on the endgenous variables involves taking the total derivative of each equilibrium conditions\n",
    "    - w.r.t to the particular exogenous variable and solving for each of the partial derivatives\n",
    "\n",
    "$$\n",
    "F^1(y_1, y_2; x_1, x_2) = 0 \\\\\n",
    "F^2(y_1, y_2; x_1, x_2) = 0\n",
    "$$\n",
    "\n",
    "#### Note: \n",
    "- #### Exogenous variables: $x_1$ and $x_2$ \n",
    "- #### Endogenous variables: $y_1$ and $y_2$ "
   ]
  },
  {
   "cell_type": "markdown",
   "metadata": {},
   "source": [
    "## 3.3 Comparative statistics for optimization problems\n",
    "- Apply comparative statistics to the first order conditions to determine initial optimal values"
   ]
  },
  {
   "cell_type": "code",
   "execution_count": 54,
   "metadata": {},
   "outputs": [
    {
     "data": {
      "text/latex": [
       "$\\displaystyle - K r - L w + p Q{\\left(K,L \\right)}$"
      ],
      "text/plain": [
       "-K*r - L*w + p*Q(K, L)"
      ]
     },
     "execution_count": 54,
     "metadata": {},
     "output_type": "execute_result"
    }
   ],
   "source": [
    "from sympy.abc import r, K, w, L, P, Q\n",
    "Q = Function('Q')(K, L)\n",
    "π = p*Q-r*K-w*L\n",
    "π"
   ]
  },
  {
   "cell_type": "markdown",
   "metadata": {},
   "source": [
    "### 3.3.1 F.O.C"
   ]
  },
  {
   "cell_type": "code",
   "execution_count": 55,
   "metadata": {},
   "outputs": [
    {
     "data": {
      "text/latex": [
       "$\\displaystyle p \\frac{\\partial}{\\partial K} Q{\\left(K,L \\right)} - r$"
      ],
      "text/plain": [
       "p*Derivative(Q(K, L), K) - r"
      ]
     },
     "execution_count": 55,
     "metadata": {},
     "output_type": "execute_result"
    }
   ],
   "source": [
    "focs = []\n",
    "for idx,iv in enumerate([K,L]):\n",
    "    foc = sy.diff(π,iv)\n",
    "    focs.append(foc)\n",
    "focs[0]"
   ]
  },
  {
   "cell_type": "markdown",
   "metadata": {},
   "source": [
    "### 3.3.2 Jacobian\n",
    "\n",
    "- For optimization of a system the Deteriminant of the Jacobian>0"
   ]
  },
  {
   "cell_type": "code",
   "execution_count": 63,
   "metadata": {},
   "outputs": [
    {
     "data": {
      "text/latex": [
       "$\\displaystyle \\left[\\begin{matrix}p \\frac{\\partial^{2}}{\\partial K^{2}} Q{\\left(K,L \\right)} & p \\frac{\\partial^{2}}{\\partial L\\partial K} Q{\\left(K,L \\right)}\\\\p \\frac{\\partial^{2}}{\\partial L\\partial K} Q{\\left(K,L \\right)} & p \\frac{\\partial^{2}}{\\partial L^{2}} Q{\\left(K,L \\right)}\\end{matrix}\\right]$"
      ],
      "text/plain": [
       "Matrix([\n",
       "[p*Derivative(Q(K, L), (K, 2)),   p*Derivative(Q(K, L), K, L)],\n",
       "[  p*Derivative(Q(K, L), K, L), p*Derivative(Q(K, L), (L, 2))]])"
      ]
     },
     "execution_count": 63,
     "metadata": {},
     "output_type": "execute_result"
    }
   ],
   "source": [
    "Jacobian = sy.Matrix([[π.diff(K,K), π.diff(K,L)],[π.diff(L,K), π.diff(L,L)]])\n",
    "Jacobian"
   ]
  },
  {
   "cell_type": "code",
   "execution_count": 64,
   "metadata": {},
   "outputs": [
    {
     "data": {
      "text/plain": [
       "[-1, 0]"
      ]
     },
     "execution_count": 64,
     "metadata": {},
     "output_type": "execute_result"
    }
   ],
   "source": [
    "B = []\n",
    "for foc in focs:\n",
    "    B.append(foc.diff(r))\n",
    "B"
   ]
  },
  {
   "cell_type": "markdown",
   "metadata": {},
   "source": [
    "### 3.3.3 Find derivatives"
   ]
  },
  {
   "cell_type": "code",
   "execution_count": 60,
   "metadata": {},
   "outputs": [],
   "source": [
    "J = Jacobian.det()"
   ]
  },
  {
   "cell_type": "code",
   "execution_count": 67,
   "metadata": {},
   "outputs": [
    {
     "data": {
      "text/latex": [
       "$\\displaystyle \\left[\\begin{matrix}1 & p \\frac{\\partial^{2}}{\\partial L\\partial K} Q{\\left(K,L \\right)}\\\\0 & p \\frac{\\partial^{2}}{\\partial L^{2}} Q{\\left(K,L \\right)}\\end{matrix}\\right]$"
      ],
      "text/plain": [
       "Matrix([\n",
       "[1,   p*Derivative(Q(K, L), K, L)],\n",
       "[0, p*Derivative(Q(K, L), (L, 2))]])"
      ]
     },
     "execution_count": 67,
     "metadata": {},
     "output_type": "execute_result"
    }
   ],
   "source": [
    "J1 = Jacobian.copy()\n",
    "J1[0] =1\n",
    "J1[2] =0\n",
    "J1"
   ]
  },
  {
   "cell_type": "code",
   "execution_count": 68,
   "metadata": {},
   "outputs": [
    {
     "data": {
      "text/latex": [
       "$\\displaystyle \\left[\\begin{matrix}p \\frac{\\partial^{2}}{\\partial K^{2}} Q{\\left(K,L \\right)} & 1\\\\p \\frac{\\partial^{2}}{\\partial L\\partial K} Q{\\left(K,L \\right)} & 0\\end{matrix}\\right]$"
      ],
      "text/plain": [
       "Matrix([\n",
       "[p*Derivative(Q(K, L), (K, 2)), 1],\n",
       "[  p*Derivative(Q(K, L), K, L), 0]])"
      ]
     },
     "execution_count": 68,
     "metadata": {},
     "output_type": "execute_result"
    }
   ],
   "source": [
    "J2 = Jacobian.copy()\n",
    "J2[1] =1\n",
    "J2[3] =0\n",
    "J2"
   ]
  },
  {
   "cell_type": "markdown",
   "metadata": {},
   "source": [
    "#### 3.3.3.1 Find $\\frac{\\partial \\bar{K}}{\\partial r}$"
   ]
  },
  {
   "cell_type": "code",
   "execution_count": 72,
   "metadata": {},
   "outputs": [
    {
     "data": {
      "text/latex": [
       "$\\displaystyle \\frac{p \\frac{\\partial^{2}}{\\partial L^{2}} Q{\\left(K,L \\right)}}{p^{2} \\frac{\\partial^{2}}{\\partial K^{2}} Q{\\left(K,L \\right)} \\frac{\\partial^{2}}{\\partial L^{2}} Q{\\left(K,L \\right)} - p^{2} \\left(\\frac{\\partial^{2}}{\\partial L\\partial K} Q{\\left(K,L \\right)}\\right)^{2}}$"
      ],
      "text/plain": [
       "p*Derivative(Q(K, L), (L, 2))/(p**2*Derivative(Q(K, L), (K, 2))*Derivative(Q(K, L), (L, 2)) - p**2*Derivative(Q(K, L), K, L)**2)"
      ]
     },
     "execution_count": 72,
     "metadata": {},
     "output_type": "execute_result"
    }
   ],
   "source": [
    "J1.det()/J"
   ]
  },
  {
   "cell_type": "markdown",
   "metadata": {},
   "source": [
    "#### 3.3.3.2 Find $\\frac{\\partial \\bar{L}}{\\partial r}$"
   ]
  },
  {
   "cell_type": "code",
   "execution_count": 73,
   "metadata": {},
   "outputs": [
    {
     "data": {
      "text/latex": [
       "$\\displaystyle - \\frac{p \\frac{\\partial^{2}}{\\partial L\\partial K} Q{\\left(K,L \\right)}}{p^{2} \\frac{\\partial^{2}}{\\partial K^{2}} Q{\\left(K,L \\right)} \\frac{\\partial^{2}}{\\partial L^{2}} Q{\\left(K,L \\right)} - p^{2} \\left(\\frac{\\partial^{2}}{\\partial L\\partial K} Q{\\left(K,L \\right)}\\right)^{2}}$"
      ],
      "text/plain": [
       "-p*Derivative(Q(K, L), K, L)/(p**2*Derivative(Q(K, L), (K, 2))*Derivative(Q(K, L), (L, 2)) - p**2*Derivative(Q(K, L), K, L)**2)"
      ]
     },
     "execution_count": 73,
     "metadata": {},
     "output_type": "execute_result"
    }
   ],
   "source": [
    "J2.det()/J"
   ]
  },
  {
   "cell_type": "markdown",
   "metadata": {},
   "source": [
    "## 3.4 Comparative statistics in constrained optimization\n",
    "- Optimize comparative statistics with constraints"
   ]
  },
  {
   "cell_type": "code",
   "execution_count": 74,
   "metadata": {},
   "outputs": [
    {
     "data": {
      "text/latex": [
       "$\\displaystyle \\lambda \\left(B - K r - L w\\right) + Q{\\left(K,L \\right)}$"
      ],
      "text/plain": [
       "lamda*(B - K*r - L*w) + Q(K, L)"
      ]
     },
     "execution_count": 74,
     "metadata": {},
     "output_type": "execute_result"
    }
   ],
   "source": [
    "from sympy.abc import r, K, w, L, P, Q, B\n",
    "lamda = sy.symbols('lamda')\n",
    "Q = Function('Q')(K, L)\n",
    "π = Q+lamda*(B-r*K-w*L)\n",
    "π "
   ]
  },
  {
   "cell_type": "markdown",
   "metadata": {},
   "source": [
    "### 3.4.1 F.O.C"
   ]
  },
  {
   "cell_type": "code",
   "execution_count": 75,
   "metadata": {},
   "outputs": [],
   "source": [
    "focs = []\n",
    "for idx,iv in enumerate([K,L,lamda]):\n",
    "    foc = sy.diff(π,iv)\n",
    "    focs.append(foc)"
   ]
  },
  {
   "cell_type": "code",
   "execution_count": 76,
   "metadata": {},
   "outputs": [
    {
     "data": {
      "text/latex": [
       "$\\displaystyle - \\lambda r + \\frac{\\partial}{\\partial K} Q{\\left(K,L \\right)}$"
      ],
      "text/plain": [
       "-lamda*r + Derivative(Q(K, L), K)"
      ]
     },
     "execution_count": 76,
     "metadata": {},
     "output_type": "execute_result"
    }
   ],
   "source": [
    "focs[0]"
   ]
  },
  {
   "cell_type": "code",
   "execution_count": 77,
   "metadata": {},
   "outputs": [
    {
     "data": {
      "text/latex": [
       "$\\displaystyle - \\lambda w + \\frac{\\partial}{\\partial L} Q{\\left(K,L \\right)}$"
      ],
      "text/plain": [
       "-lamda*w + Derivative(Q(K, L), L)"
      ]
     },
     "execution_count": 77,
     "metadata": {},
     "output_type": "execute_result"
    }
   ],
   "source": [
    "focs[1]"
   ]
  },
  {
   "cell_type": "code",
   "execution_count": 78,
   "metadata": {},
   "outputs": [
    {
     "data": {
      "text/latex": [
       "$\\displaystyle B - K r - L w$"
      ],
      "text/plain": [
       "B - K*r - L*w"
      ]
     },
     "execution_count": 78,
     "metadata": {},
     "output_type": "execute_result"
    }
   ],
   "source": [
    "focs[2]"
   ]
  },
  {
   "cell_type": "markdown",
   "metadata": {},
   "source": [
    "### 3.4.2 Jacobian"
   ]
  },
  {
   "cell_type": "code",
   "execution_count": 79,
   "metadata": {},
   "outputs": [
    {
     "data": {
      "text/latex": [
       "$\\displaystyle \\left[\\begin{matrix}\\frac{\\partial^{2}}{\\partial K^{2}} Q{\\left(K,L \\right)} & \\frac{\\partial^{2}}{\\partial L\\partial K} Q{\\left(K,L \\right)} & - r\\\\\\frac{\\partial^{2}}{\\partial L\\partial K} Q{\\left(K,L \\right)} & \\frac{\\partial^{2}}{\\partial L^{2}} Q{\\left(K,L \\right)} & - w\\\\- r & - w & 0\\end{matrix}\\right]$"
      ],
      "text/plain": [
       "Matrix([\n",
       "[Derivative(Q(K, L), (K, 2)),   Derivative(Q(K, L), K, L), -r],\n",
       "[  Derivative(Q(K, L), K, L), Derivative(Q(K, L), (L, 2)), -w],\n",
       "[                         -r,                          -w,  0]])"
      ]
     },
     "execution_count": 79,
     "metadata": {},
     "output_type": "execute_result"
    }
   ],
   "source": [
    "independent_variables = [K,L,lamda]\n",
    "functions = focs\n",
    "Jacobian = sy.Matrix(np.zeros(shape=(len(functions), len(independent_variables))))\n",
    "count = 0\n",
    "for funcs in functions:\n",
    "    for iv in independent_variables:\n",
    "        Jacobian[count] = sy.diff(funcs, iv)\n",
    "        count+=1\n",
    "Jacobian"
   ]
  },
  {
   "cell_type": "code",
   "execution_count": 312,
   "metadata": {},
   "outputs": [],
   "source": [
    "J_deter = Jacobian.det()"
   ]
  },
  {
   "cell_type": "markdown",
   "metadata": {},
   "source": [
    "### 3.4.3 Find derivatives\n"
   ]
  },
  {
   "cell_type": "code",
   "execution_count": 308,
   "metadata": {},
   "outputs": [],
   "source": [
    "def deriv_convert(matrix, col=0):\n",
    "    deriv_col = iter([0, 0, -1])\n",
    "    derivs = Jacobian.copy()\n",
    "    for i in range(1,len(Jacobian)+1):\n",
    "        if i%3==col:\n",
    "            derivs[i-1] = next(deriv_col)\n",
    "    return derivs"
   ]
  },
  {
   "cell_type": "markdown",
   "metadata": {},
   "source": [
    "#### 3.3.4.1 Find $\\frac{\\partial \\bar{K}}{\\partial B}$"
   ]
  },
  {
   "cell_type": "code",
   "execution_count": 309,
   "metadata": {},
   "outputs": [
    {
     "data": {
      "text/latex": [
       "$\\displaystyle \\left[\\begin{matrix}0 & \\frac{\\partial^{2}}{\\partial L\\partial K} Q{\\left(K,L \\right)} & - r\\\\0 & \\frac{\\partial^{2}}{\\partial L^{2}} Q{\\left(K,L \\right)} & - w\\\\-1 & - w & 0\\end{matrix}\\right]$"
      ],
      "text/plain": [
       "Matrix([\n",
       "[ 0,   Derivative(Q(K, L), K, L), -r],\n",
       "[ 0, Derivative(Q(K, L), (L, 2)), -w],\n",
       "[-1,                          -w,  0]])"
      ]
     },
     "execution_count": 309,
     "metadata": {},
     "output_type": "execute_result"
    }
   ],
   "source": [
    "k_b = deriv_convert(derivs, col=1)\n",
    "k_b"
   ]
  },
  {
   "cell_type": "code",
   "execution_count": 314,
   "metadata": {},
   "outputs": [
    {
     "data": {
      "text/latex": [
       "$\\displaystyle \\frac{- r \\frac{\\partial^{2}}{\\partial L^{2}} Q{\\left(K,L \\right)} + w \\frac{\\partial^{2}}{\\partial L\\partial K} Q{\\left(K,L \\right)}}{- r^{2} \\frac{\\partial^{2}}{\\partial L^{2}} Q{\\left(K,L \\right)} + 2 r w \\frac{\\partial^{2}}{\\partial L\\partial K} Q{\\left(K,L \\right)} - w^{2} \\frac{\\partial^{2}}{\\partial K^{2}} Q{\\left(K,L \\right)}}$"
      ],
      "text/plain": [
       "(-r*Derivative(Q(K, L), (L, 2)) + w*Derivative(Q(K, L), K, L))/(-r**2*Derivative(Q(K, L), (L, 2)) + 2*r*w*Derivative(Q(K, L), K, L) - w**2*Derivative(Q(K, L), (K, 2)))"
      ]
     },
     "execution_count": 314,
     "metadata": {},
     "output_type": "execute_result"
    }
   ],
   "source": [
    "k_b.det()/J_deter"
   ]
  },
  {
   "cell_type": "markdown",
   "metadata": {},
   "source": [
    "#### 3.3.4.2 Find $\\frac{\\partial \\bar{L}}{\\partial B}$"
   ]
  },
  {
   "cell_type": "code",
   "execution_count": 310,
   "metadata": {},
   "outputs": [
    {
     "data": {
      "text/latex": [
       "$\\displaystyle \\left[\\begin{matrix}\\frac{\\partial^{2}}{\\partial K^{2}} Q{\\left(K,L \\right)} & 0 & - r\\\\\\frac{\\partial^{2}}{\\partial L\\partial K} Q{\\left(K,L \\right)} & 0 & - w\\\\- r & -1 & 0\\end{matrix}\\right]$"
      ],
      "text/plain": [
       "Matrix([\n",
       "[Derivative(Q(K, L), (K, 2)),  0, -r],\n",
       "[  Derivative(Q(K, L), K, L),  0, -w],\n",
       "[                         -r, -1,  0]])"
      ]
     },
     "execution_count": 310,
     "metadata": {},
     "output_type": "execute_result"
    }
   ],
   "source": [
    "L_b = deriv_convert(derivs, col=2)\n",
    "L_b"
   ]
  },
  {
   "cell_type": "code",
   "execution_count": 315,
   "metadata": {},
   "outputs": [
    {
     "data": {
      "text/latex": [
       "$\\displaystyle \\frac{r \\frac{\\partial^{2}}{\\partial L\\partial K} Q{\\left(K,L \\right)} - w \\frac{\\partial^{2}}{\\partial K^{2}} Q{\\left(K,L \\right)}}{- r^{2} \\frac{\\partial^{2}}{\\partial L^{2}} Q{\\left(K,L \\right)} + 2 r w \\frac{\\partial^{2}}{\\partial L\\partial K} Q{\\left(K,L \\right)} - w^{2} \\frac{\\partial^{2}}{\\partial K^{2}} Q{\\left(K,L \\right)}}$"
      ],
      "text/plain": [
       "(r*Derivative(Q(K, L), K, L) - w*Derivative(Q(K, L), (K, 2)))/(-r**2*Derivative(Q(K, L), (L, 2)) + 2*r*w*Derivative(Q(K, L), K, L) - w**2*Derivative(Q(K, L), (K, 2)))"
      ]
     },
     "execution_count": 315,
     "metadata": {},
     "output_type": "execute_result"
    }
   ],
   "source": [
    "L_b.det()/J_deter"
   ]
  },
  {
   "cell_type": "markdown",
   "metadata": {},
   "source": [
    "#### 3.3.4.3 Find $\\frac{\\partial \\bar{\\lambda}}{\\partial B}$"
   ]
  },
  {
   "cell_type": "code",
   "execution_count": 311,
   "metadata": {},
   "outputs": [
    {
     "data": {
      "text/latex": [
       "$\\displaystyle \\left[\\begin{matrix}\\frac{\\partial^{2}}{\\partial K^{2}} Q{\\left(K,L \\right)} & \\frac{\\partial^{2}}{\\partial L\\partial K} Q{\\left(K,L \\right)} & 0\\\\\\frac{\\partial^{2}}{\\partial L\\partial K} Q{\\left(K,L \\right)} & \\frac{\\partial^{2}}{\\partial L^{2}} Q{\\left(K,L \\right)} & 0\\\\- r & - w & -1\\end{matrix}\\right]$"
      ],
      "text/plain": [
       "Matrix([\n",
       "[Derivative(Q(K, L), (K, 2)),   Derivative(Q(K, L), K, L),  0],\n",
       "[  Derivative(Q(K, L), K, L), Derivative(Q(K, L), (L, 2)),  0],\n",
       "[                         -r,                          -w, -1]])"
      ]
     },
     "execution_count": 311,
     "metadata": {},
     "output_type": "execute_result"
    }
   ],
   "source": [
    "lamb_b = deriv_convert(derivs, col=0)\n",
    "lamb_b "
   ]
  },
  {
   "cell_type": "code",
   "execution_count": 316,
   "metadata": {},
   "outputs": [
    {
     "data": {
      "text/latex": [
       "$\\displaystyle \\frac{- \\frac{\\partial^{2}}{\\partial K^{2}} Q{\\left(K,L \\right)} \\frac{\\partial^{2}}{\\partial L^{2}} Q{\\left(K,L \\right)} + \\left(\\frac{\\partial^{2}}{\\partial L\\partial K} Q{\\left(K,L \\right)}\\right)^{2}}{- r^{2} \\frac{\\partial^{2}}{\\partial L^{2}} Q{\\left(K,L \\right)} + 2 r w \\frac{\\partial^{2}}{\\partial L\\partial K} Q{\\left(K,L \\right)} - w^{2} \\frac{\\partial^{2}}{\\partial K^{2}} Q{\\left(K,L \\right)}}$"
      ],
      "text/plain": [
       "(-Derivative(Q(K, L), (K, 2))*Derivative(Q(K, L), (L, 2)) + Derivative(Q(K, L), K, L)**2)/(-r**2*Derivative(Q(K, L), (L, 2)) + 2*r*w*Derivative(Q(K, L), K, L) - w**2*Derivative(Q(K, L), (K, 2)))"
      ]
     },
     "execution_count": 316,
     "metadata": {},
     "output_type": "execute_result"
    }
   ],
   "source": [
    "lamb_b.det()/J_deter"
   ]
  },
  {
   "cell_type": "markdown",
   "metadata": {},
   "source": [
    "## 3.5 Envelope theorem\n",
    "\n",
    "- `Envelope theorem:` Measures the effect of a change in exogenous variables on the optimal value of the objective function\n",
    "    - This can be achieved by simply taking the derivative of the Lagrangian function w.r.t the desired exogenous variable and evaluating the derivative at the values of the optimal solution\n",
    "    "
   ]
  },
  {
   "cell_type": "code",
   "execution_count": 343,
   "metadata": {},
   "outputs": [
    {
     "name": "stdout",
     "output_type": "stream",
     "text": [
      "Budget constraint:\n"
     ]
    },
    {
     "data": {
      "text/latex": [
       "$\\displaystyle \\lambda \\left(B - px x - py y\\right) + u{\\left(x,y \\right)}$"
      ],
      "text/plain": [
       "lamda*(B - px*x - py*y) + u(x, y)"
      ]
     },
     "execution_count": 343,
     "metadata": {},
     "output_type": "execute_result"
    }
   ],
   "source": [
    "B, x, px, y, py, lamb= sy.symbols('B x px y py lamda', integer=True)\n",
    "\n",
    "u = Function('u')(x, y)\n",
    "constraint = lamb*(B-px*x-py*y)\n",
    "U = u+constraint\n",
    "print('Budget constraint:')\n",
    "U"
   ]
  },
  {
   "cell_type": "code",
   "execution_count": 344,
   "metadata": {},
   "outputs": [],
   "source": [
    "focs = []\n",
    "for idx,iv in enumerate([px, py, B]):\n",
    "    foc = sy.diff(U,iv)\n",
    "    focs.append(foc)"
   ]
  },
  {
   "cell_type": "markdown",
   "metadata": {},
   "source": [
    "- $\\lambda$: Marginal uility of money\n",
    "    - The extra utility derived from a change in income\n",
    "    \n",
    "- The first and second order conditions are negative:\n",
    "    - $\\uparrow \\lambda \\rightarrow$  negative impact on the quantity of good consumed"
   ]
  },
  {
   "cell_type": "code",
   "execution_count": 345,
   "metadata": {},
   "outputs": [
    {
     "data": {
      "text/latex": [
       "$\\displaystyle - \\lambda x$"
      ],
      "text/plain": [
       "-lamda*x"
      ]
     },
     "execution_count": 345,
     "metadata": {},
     "output_type": "execute_result"
    }
   ],
   "source": [
    "focs[0]"
   ]
  },
  {
   "cell_type": "code",
   "execution_count": 346,
   "metadata": {},
   "outputs": [
    {
     "data": {
      "text/latex": [
       "$\\displaystyle - \\lambda y$"
      ],
      "text/plain": [
       "-lamda*y"
      ]
     },
     "execution_count": 346,
     "metadata": {},
     "output_type": "execute_result"
    }
   ],
   "source": [
    "focs[1]"
   ]
  },
  {
   "cell_type": "code",
   "execution_count": 347,
   "metadata": {},
   "outputs": [
    {
     "data": {
      "text/latex": [
       "$\\displaystyle \\lambda$"
      ],
      "text/plain": [
       "lamda"
      ]
     },
     "execution_count": 347,
     "metadata": {},
     "output_type": "execute_result"
    }
   ],
   "source": [
    "focs[2]"
   ]
  },
  {
   "cell_type": "markdown",
   "metadata": {},
   "source": [
    "## 3.6 Concave programming\n",
    "- Optimize comparative statistics with inequality constraints\n",
    "- Assume that functions are concave"
   ]
  },
  {
   "cell_type": "code",
   "execution_count": 350,
   "metadata": {},
   "outputs": [
    {
     "name": "stdout",
     "output_type": "stream",
     "text": [
      "Budget constraint:\n"
     ]
    },
    {
     "data": {
      "text/latex": [
       "$\\displaystyle \\lambda \\left(B - px x - py y\\right) + u{\\left(x,y \\right)}$"
      ],
      "text/plain": [
       "lamda*(B - px*x - py*y) + u(x, y)"
      ]
     },
     "execution_count": 350,
     "metadata": {},
     "output_type": "execute_result"
    }
   ],
   "source": [
    "B, x, px, y, py, lamb= sy.symbols('B x px y py lamda', integer=True)\n",
    "\n",
    "u = Function('u')(x, y)\n",
    "constraint = lamb*(B-px*x-py*y)\n",
    "U = u+constraint\n",
    "print('Budget constraint:')\n",
    "U"
   ]
  },
  {
   "cell_type": "code",
   "execution_count": 351,
   "metadata": {},
   "outputs": [
    {
     "data": {
      "text/latex": [
       "$\\displaystyle - \\lambda px + \\frac{d}{d x} u{\\left(x,y \\right)}$"
      ],
      "text/plain": [
       "-lamda*px + Derivative(u(x, y), x)"
      ]
     },
     "execution_count": 351,
     "metadata": {},
     "output_type": "execute_result"
    }
   ],
   "source": [
    "#1.A\n",
    "sy.diff(U, x)"
   ]
  },
  {
   "cell_type": "code",
   "execution_count": 352,
   "metadata": {},
   "outputs": [
    {
     "data": {
      "text/latex": [
       "$\\displaystyle - \\lambda py + \\frac{d}{d y} u{\\left(x,y \\right)}$"
      ],
      "text/plain": [
       "-lamda*py + Derivative(u(x, y), y)"
      ]
     },
     "execution_count": 352,
     "metadata": {},
     "output_type": "execute_result"
    }
   ],
   "source": [
    "# 1.B\n",
    "sy.diff(U, y)"
   ]
  },
  {
   "cell_type": "code",
   "execution_count": 355,
   "metadata": {},
   "outputs": [
    {
     "data": {
      "text/latex": [
       "$\\displaystyle B - px x - py y$"
      ],
      "text/plain": [
       "B - px*x - py*y"
      ]
     },
     "execution_count": 355,
     "metadata": {},
     "output_type": "execute_result"
    }
   ],
   "source": [
    "#2.A\n",
    "sy.diff(U,lamb)"
   ]
  }
 ],
 "metadata": {
  "kernelspec": {
   "display_name": "Python 3",
   "language": "python",
   "name": "python3"
  },
  "language_info": {
   "codemirror_mode": {
    "name": "ipython",
    "version": 3
   },
   "file_extension": ".py",
   "mimetype": "text/x-python",
   "name": "python",
   "nbconvert_exporter": "python",
   "pygments_lexer": "ipython3",
   "version": "3.7.6"
  }
 },
 "nbformat": 4,
 "nbformat_minor": 4
}
